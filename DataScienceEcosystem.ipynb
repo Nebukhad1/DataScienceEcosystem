{
  "nbformat": 4,
  "nbformat_minor": 0,
  "metadata": {
    "colab": {
      "provenance": []
    },
    "kernelspec": {
      "name": "python3",
      "display_name": "Python 3"
    },
    "language_info": {
      "name": "python"
    }
  },
  "cells": [
    {
      "cell_type": "markdown",
      "source": [
        "# Data Science Tools and Ecosystem"
      ],
      "metadata": {
        "id": "FLtqc6dWWV-G"
      }
    },
    {
      "cell_type": "markdown",
      "source": [
        "**Objectives:**"
      ],
      "metadata": {
        "id": "f_BNFTlbWhYk"
      }
    },
    {
      "cell_type": "markdown",
      "source": [
        "\n",
        "- Add comments to code\n",
        "- Create markdown cells\n",
        "- Add ordered and unordered lists\n",
        "- Arithmatic codes\n"
      ],
      "metadata": {
        "id": "xAmubapWWk61"
      }
    },
    {
      "cell_type": "markdown",
      "source": [
        "In this notebook, Data Science Tools and Ecosystem are summarized."
      ],
      "metadata": {
        "id": "wD8PwzKrV_Lq"
      }
    },
    {
      "cell_type": "markdown",
      "source": [
        "Some of the popular languages that Data Scientists use are:"
      ],
      "metadata": {
        "id": "ehFjcEFCWFtX"
      }
    },
    {
      "cell_type": "markdown",
      "source": [
        "\n",
        "\n",
        "*   Python\n",
        "*   R\n",
        "*   SQL\n",
        "\n",
        "\n",
        "\n"
      ],
      "metadata": {
        "id": "4O6hhldyWL4u"
      }
    },
    {
      "cell_type": "markdown",
      "source": [
        "Some of the commonly used libraries used by Data Scientists include:"
      ],
      "metadata": {
        "id": "zwmCm3tcW-jt"
      }
    },
    {
      "cell_type": "markdown",
      "source": [
        "\n",
        "\n",
        "*   Pandas\n",
        "*   Matplotlib\n",
        "*   TensorFlow\n",
        "\n",
        "\n",
        "\n"
      ],
      "metadata": {
        "id": "R1_6UeX4XFjV"
      }
    },
    {
      "cell_type": "markdown",
      "source": [
        "##Tables:\n",
        "| Data Science Tools |\n",
        "| ------------------ |\n",
        "| Jupyter Notebook |\n",
        "| Rstudio |\n",
        "| Apache Spark |\n",
        "| Tableau |\n",
        "| GitHub |\n",
        "| Google colab |\n",
        "| Power Bi |"
      ],
      "metadata": {
        "id": "v2iKt6PvXFxt"
      }
    },
    {
      "cell_type": "markdown",
      "source": [
        "###Below are a few examples of evaluating arithmetic expressions in Python"
      ],
      "metadata": {
        "id": "7eWWyDvlXl1t"
      }
    },
    {
      "cell_type": "code",
      "source": [
        "(3*4)+5 ##This a simple arithmetic expression to mutiply then add integers"
      ],
      "metadata": {
        "colab": {
          "base_uri": "https://localhost:8080/"
        },
        "id": "QIhxQSteX2PL",
        "outputId": "9a4dcf0d-b26a-4219-e4a7-a844d753a52d"
      },
      "execution_count": 1,
      "outputs": [
        {
          "output_type": "execute_result",
          "data": {
            "text/plain": [
              "17"
            ]
          },
          "metadata": {},
          "execution_count": 1
        }
      ]
    },
    {
      "cell_type": "code",
      "source": [
        "##This will convert 200 minutes to huors by dividing by 60:\n",
        "200//60"
      ],
      "metadata": {
        "colab": {
          "base_uri": "https://localhost:8080/"
        },
        "id": "bYyZ80MfYarO",
        "outputId": "704e04c8-cf18-483f-c61d-2d01ab52f6d3"
      },
      "execution_count": 2,
      "outputs": [
        {
          "output_type": "execute_result",
          "data": {
            "text/plain": [
              "3"
            ]
          },
          "metadata": {},
          "execution_count": 2
        }
      ]
    },
    {
      "cell_type": "markdown",
      "source": [
        "##**Author**"
      ],
      "metadata": {
        "id": "RsPsKQFQY-ZR"
      }
    },
    {
      "cell_type": "markdown",
      "source": [
        "Muhammad Nebukhadnezar Manthoufani"
      ],
      "metadata": {
        "id": "NKsXkBSQZBQA"
      }
    }
  ]
}